{
 "cells": [
  {
   "cell_type": "code",
   "execution_count": 3,
   "metadata": {},
   "outputs": [],
   "source": [
    "import pandas as pd\n",
    "import scipy.sparse as sparse\n",
    "import numpy as np\n",
    "import random\n",
    "import implicit\n",
    "from sklearn.preprocessing import MinMaxScaler\n",
    "from sklearn import metrics"
   ]
  },
  {
   "cell_type": "code",
   "execution_count": 16,
   "metadata": {},
   "outputs": [],
   "source": [
    "articles_df = pd.read_csv('/Users/lucaschang/Documents/python/rec_sys_implicit/shared_articles.csv')\n",
    "interactions_df = pd.read_csv('/Users/lucaschang/Documents/python/rec_sys_implicit/users_interactions.csv')\n",
    "articles_df.drop(['authorUserAgent', 'authorRegion', 'authorCountry'], axis=1, inplace=True)\n",
    "interactions_df.drop(['userAgent', 'userRegion', 'userCountry'], axis=1, inplace=True)"
   ]
  },
  {
   "cell_type": "code",
   "execution_count": 19,
   "metadata": {},
   "outputs": [
    {
     "data": {
      "text/html": [
       "<div>\n",
       "<style scoped>\n",
       "    .dataframe tbody tr th:only-of-type {\n",
       "        vertical-align: middle;\n",
       "    }\n",
       "\n",
       "    .dataframe tbody tr th {\n",
       "        vertical-align: top;\n",
       "    }\n",
       "\n",
       "    .dataframe thead th {\n",
       "        text-align: right;\n",
       "    }\n",
       "</style>\n",
       "<table border=\"1\" class=\"dataframe\">\n",
       "  <thead>\n",
       "    <tr style=\"text-align: right;\">\n",
       "      <th></th>\n",
       "      <th>timestamp</th>\n",
       "      <th>eventType</th>\n",
       "      <th>contentId</th>\n",
       "      <th>authorPersonId</th>\n",
       "      <th>authorSessionId</th>\n",
       "      <th>contentType</th>\n",
       "      <th>url</th>\n",
       "      <th>title</th>\n",
       "      <th>text</th>\n",
       "      <th>lang</th>\n",
       "    </tr>\n",
       "  </thead>\n",
       "  <tbody>\n",
       "    <tr>\n",
       "      <th>0</th>\n",
       "      <td>1459192779</td>\n",
       "      <td>CONTENT REMOVED</td>\n",
       "      <td>-6451309518266745024</td>\n",
       "      <td>4340306774493623681</td>\n",
       "      <td>8940341205206233829</td>\n",
       "      <td>HTML</td>\n",
       "      <td>http://www.nytimes.com/2016/03/28/business/dea...</td>\n",
       "      <td>Ethereum, a Virtual Currency, Enables Transact...</td>\n",
       "      <td>All of this work is still very early. The firs...</td>\n",
       "      <td>en</td>\n",
       "    </tr>\n",
       "    <tr>\n",
       "      <th>1</th>\n",
       "      <td>1459193988</td>\n",
       "      <td>CONTENT SHARED</td>\n",
       "      <td>-4110354420726924665</td>\n",
       "      <td>4340306774493623681</td>\n",
       "      <td>8940341205206233829</td>\n",
       "      <td>HTML</td>\n",
       "      <td>http://www.nytimes.com/2016/03/28/business/dea...</td>\n",
       "      <td>Ethereum, a Virtual Currency, Enables Transact...</td>\n",
       "      <td>All of this work is still very early. The firs...</td>\n",
       "      <td>en</td>\n",
       "    </tr>\n",
       "    <tr>\n",
       "      <th>2</th>\n",
       "      <td>1459194146</td>\n",
       "      <td>CONTENT SHARED</td>\n",
       "      <td>-7292285110016212249</td>\n",
       "      <td>4340306774493623681</td>\n",
       "      <td>8940341205206233829</td>\n",
       "      <td>HTML</td>\n",
       "      <td>http://cointelegraph.com/news/bitcoin-future-w...</td>\n",
       "      <td>Bitcoin Future: When GBPcoin of Branson Wins O...</td>\n",
       "      <td>The alarm clock wakes me at 8:00 with stream o...</td>\n",
       "      <td>en</td>\n",
       "    </tr>\n",
       "  </tbody>\n",
       "</table>\n",
       "</div>"
      ],
      "text/plain": [
       "    timestamp        eventType            contentId       authorPersonId  \\\n",
       "0  1459192779  CONTENT REMOVED -6451309518266745024  4340306774493623681   \n",
       "1  1459193988   CONTENT SHARED -4110354420726924665  4340306774493623681   \n",
       "2  1459194146   CONTENT SHARED -7292285110016212249  4340306774493623681   \n",
       "\n",
       "       authorSessionId contentType  \\\n",
       "0  8940341205206233829        HTML   \n",
       "1  8940341205206233829        HTML   \n",
       "2  8940341205206233829        HTML   \n",
       "\n",
       "                                                 url  \\\n",
       "0  http://www.nytimes.com/2016/03/28/business/dea...   \n",
       "1  http://www.nytimes.com/2016/03/28/business/dea...   \n",
       "2  http://cointelegraph.com/news/bitcoin-future-w...   \n",
       "\n",
       "                                               title  \\\n",
       "0  Ethereum, a Virtual Currency, Enables Transact...   \n",
       "1  Ethereum, a Virtual Currency, Enables Transact...   \n",
       "2  Bitcoin Future: When GBPcoin of Branson Wins O...   \n",
       "\n",
       "                                                text lang  \n",
       "0  All of this work is still very early. The firs...   en  \n",
       "1  All of this work is still very early. The firs...   en  \n",
       "2  The alarm clock wakes me at 8:00 with stream o...   en  "
      ]
     },
     "execution_count": 19,
     "metadata": {},
     "output_type": "execute_result"
    }
   ],
   "source": [
    "articles_df.head(3)"
   ]
  },
  {
   "cell_type": "code",
   "execution_count": 20,
   "metadata": {},
   "outputs": [
    {
     "data": {
      "text/plain": [
       "CONTENT SHARED     3047\n",
       "CONTENT REMOVED      75\n",
       "Name: eventType, dtype: int64"
      ]
     },
     "execution_count": 20,
     "metadata": {},
     "output_type": "execute_result"
    }
   ],
   "source": [
    "articles_df['eventType'].value_counts()"
   ]
  },
  {
   "cell_type": "code",
   "execution_count": 21,
   "metadata": {},
   "outputs": [],
   "source": [
    "articles_df = articles_df[articles_df['eventType'] == 'CONTENT SHARED']\n",
    "articles_df.drop('eventType', axis=1, inplace=True)"
   ]
  },
  {
   "cell_type": "code",
   "execution_count": 22,
   "metadata": {},
   "outputs": [
    {
     "name": "stdout",
     "output_type": "stream",
     "text": [
      "<class 'pandas.core.frame.DataFrame'>\n",
      "Int64Index: 3047 entries, 1 to 3121\n",
      "Data columns (total 9 columns):\n",
      " #   Column           Non-Null Count  Dtype \n",
      "---  ------           --------------  ----- \n",
      " 0   timestamp        3047 non-null   int64 \n",
      " 1   contentId        3047 non-null   int64 \n",
      " 2   authorPersonId   3047 non-null   int64 \n",
      " 3   authorSessionId  3047 non-null   int64 \n",
      " 4   contentType      3047 non-null   object\n",
      " 5   url              3047 non-null   object\n",
      " 6   title            3047 non-null   object\n",
      " 7   text             3047 non-null   object\n",
      " 8   lang             3047 non-null   object\n",
      "dtypes: int64(4), object(5)\n",
      "memory usage: 238.0+ KB\n"
     ]
    }
   ],
   "source": [
    "articles_df.info()"
   ]
  },
  {
   "cell_type": "code",
   "execution_count": 23,
   "metadata": {},
   "outputs": [
    {
     "name": "stdout",
     "output_type": "stream",
     "text": [
      "<class 'pandas.core.frame.DataFrame'>\n",
      "RangeIndex: 72312 entries, 0 to 72311\n",
      "Data columns (total 5 columns):\n",
      " #   Column     Non-Null Count  Dtype \n",
      "---  ------     --------------  ----- \n",
      " 0   timestamp  72312 non-null  int64 \n",
      " 1   eventType  72312 non-null  object\n",
      " 2   contentId  72312 non-null  int64 \n",
      " 3   personId   72312 non-null  int64 \n",
      " 4   sessionId  72312 non-null  int64 \n",
      "dtypes: int64(4), object(1)\n",
      "memory usage: 2.8+ MB\n"
     ]
    }
   ],
   "source": [
    "interactions_df.info()"
   ]
  },
  {
   "cell_type": "code",
   "execution_count": 71,
   "metadata": {},
   "outputs": [
    {
     "data": {
      "text/plain": [
       "<bound method Series.unique of 0       -8845298781299428018\n",
       "1       -1032019229384696495\n",
       "2       -1130272294246983140\n",
       "3         344280948527967603\n",
       "4        -445337111692715325\n",
       "                ...         \n",
       "72307   -9016528795238256703\n",
       "72308     102305705598210278\n",
       "72309   -9196668942822132778\n",
       "72310   -9016528795238256703\n",
       "72311    5713241217519616260\n",
       "Name: personId, Length: 72312, dtype: int64>"
      ]
     },
     "execution_count": 71,
     "metadata": {},
     "output_type": "execute_result"
    }
   ],
   "source": [
    "interactions_df['personId'].unique"
   ]
  },
  {
   "cell_type": "code",
   "execution_count": 24,
   "metadata": {},
   "outputs": [],
   "source": [
    "df = pd.merge(interactions_df[['contentId','personId', 'eventType']], \n",
    "              articles_df[['contentId', 'title']], \n",
    "              how = 'inner', \n",
    "              on = 'contentId')"
   ]
  },
  {
   "cell_type": "code",
   "execution_count": 25,
   "metadata": {},
   "outputs": [
    {
     "name": "stdout",
     "output_type": "stream",
     "text": [
      "<class 'pandas.core.frame.DataFrame'>\n",
      "Int64Index: 72269 entries, 0 to 72268\n",
      "Data columns (total 4 columns):\n",
      " #   Column     Non-Null Count  Dtype \n",
      "---  ------     --------------  ----- \n",
      " 0   contentId  72269 non-null  int64 \n",
      " 1   personId   72269 non-null  int64 \n",
      " 2   eventType  72269 non-null  object\n",
      " 3   title      72269 non-null  object\n",
      "dtypes: int64(2), object(2)\n",
      "memory usage: 2.8+ MB\n"
     ]
    }
   ],
   "source": [
    "df.info()"
   ]
  },
  {
   "cell_type": "code",
   "execution_count": 26,
   "metadata": {},
   "outputs": [
    {
     "data": {
      "text/html": [
       "<div>\n",
       "<style scoped>\n",
       "    .dataframe tbody tr th:only-of-type {\n",
       "        vertical-align: middle;\n",
       "    }\n",
       "\n",
       "    .dataframe tbody tr th {\n",
       "        vertical-align: top;\n",
       "    }\n",
       "\n",
       "    .dataframe thead th {\n",
       "        text-align: right;\n",
       "    }\n",
       "</style>\n",
       "<table border=\"1\" class=\"dataframe\">\n",
       "  <thead>\n",
       "    <tr style=\"text-align: right;\">\n",
       "      <th></th>\n",
       "      <th>contentId</th>\n",
       "      <th>personId</th>\n",
       "      <th>eventType</th>\n",
       "      <th>title</th>\n",
       "    </tr>\n",
       "  </thead>\n",
       "  <tbody>\n",
       "    <tr>\n",
       "      <th>0</th>\n",
       "      <td>-3499919498720038879</td>\n",
       "      <td>-8845298781299428018</td>\n",
       "      <td>VIEW</td>\n",
       "      <td>Hiri wants to fix the workplace email problem</td>\n",
       "    </tr>\n",
       "    <tr>\n",
       "      <th>1</th>\n",
       "      <td>-3499919498720038879</td>\n",
       "      <td>-8845298781299428018</td>\n",
       "      <td>VIEW</td>\n",
       "      <td>Hiri wants to fix the workplace email problem</td>\n",
       "    </tr>\n",
       "    <tr>\n",
       "      <th>2</th>\n",
       "      <td>-3499919498720038879</td>\n",
       "      <td>-108842214936804958</td>\n",
       "      <td>VIEW</td>\n",
       "      <td>Hiri wants to fix the workplace email problem</td>\n",
       "    </tr>\n",
       "  </tbody>\n",
       "</table>\n",
       "</div>"
      ],
      "text/plain": [
       "             contentId             personId eventType  \\\n",
       "0 -3499919498720038879 -8845298781299428018      VIEW   \n",
       "1 -3499919498720038879 -8845298781299428018      VIEW   \n",
       "2 -3499919498720038879  -108842214936804958      VIEW   \n",
       "\n",
       "                                           title  \n",
       "0  Hiri wants to fix the workplace email problem  \n",
       "1  Hiri wants to fix the workplace email problem  \n",
       "2  Hiri wants to fix the workplace email problem  "
      ]
     },
     "execution_count": 26,
     "metadata": {},
     "output_type": "execute_result"
    }
   ],
   "source": [
    "df.head(3)"
   ]
  },
  {
   "cell_type": "code",
   "execution_count": 72,
   "metadata": {},
   "outputs": [
    {
     "data": {
      "text/plain": [
       "<bound method Series.unique of 0       -8845298781299428018\n",
       "2        -108842214936804958\n",
       "3       -1443636648652872475\n",
       "6       -8020832670974472349\n",
       "8       -9009798162809551896\n",
       "                ...         \n",
       "72264   -4028919343899978105\n",
       "72265   -3643155458357242906\n",
       "72266    5660542693104786364\n",
       "72267    5660542693104786364\n",
       "72268   -7496361692498935601\n",
       "Name: personId, Length: 50910, dtype: int64>"
      ]
     },
     "execution_count": 72,
     "metadata": {},
     "output_type": "execute_result"
    }
   ],
   "source": [
    "df['personId'].unique"
   ]
  },
  {
   "cell_type": "code",
   "execution_count": 27,
   "metadata": {},
   "outputs": [
    {
     "data": {
      "text/plain": [
       "VIEW               61043\n",
       "LIKE                5745\n",
       "BOOKMARK            2463\n",
       "COMMENT CREATED     1611\n",
       "FOLLOW              1407\n",
       "Name: eventType, dtype: int64"
      ]
     },
     "execution_count": 27,
     "metadata": {},
     "output_type": "execute_result"
    }
   ],
   "source": [
    "df['eventType'].value_counts()"
   ]
  },
  {
   "cell_type": "code",
   "execution_count": 28,
   "metadata": {},
   "outputs": [],
   "source": [
    "event_type_strength = {\n",
    "   'VIEW': 1.0,\n",
    "   'LIKE': 2.0, \n",
    "   'BOOKMARK': 3.0, \n",
    "   'FOLLOW': 4.0,\n",
    "   'COMMENT CREATED': 5.0,  \n",
    "}\n",
    "\n",
    "df['eventStrength'] = df['eventType'].apply(lambda x: event_type_strength[x])"
   ]
  },
  {
   "cell_type": "code",
   "execution_count": 29,
   "metadata": {},
   "outputs": [
    {
     "data": {
      "text/html": [
       "<div>\n",
       "<style scoped>\n",
       "    .dataframe tbody tr th:only-of-type {\n",
       "        vertical-align: middle;\n",
       "    }\n",
       "\n",
       "    .dataframe tbody tr th {\n",
       "        vertical-align: top;\n",
       "    }\n",
       "\n",
       "    .dataframe thead th {\n",
       "        text-align: right;\n",
       "    }\n",
       "</style>\n",
       "<table border=\"1\" class=\"dataframe\">\n",
       "  <thead>\n",
       "    <tr style=\"text-align: right;\">\n",
       "      <th></th>\n",
       "      <th>contentId</th>\n",
       "      <th>personId</th>\n",
       "      <th>eventType</th>\n",
       "      <th>title</th>\n",
       "      <th>eventStrength</th>\n",
       "    </tr>\n",
       "  </thead>\n",
       "  <tbody>\n",
       "    <tr>\n",
       "      <th>0</th>\n",
       "      <td>-3499919498720038879</td>\n",
       "      <td>-8845298781299428018</td>\n",
       "      <td>VIEW</td>\n",
       "      <td>Hiri wants to fix the workplace email problem</td>\n",
       "      <td>1.0</td>\n",
       "    </tr>\n",
       "    <tr>\n",
       "      <th>1</th>\n",
       "      <td>-3499919498720038879</td>\n",
       "      <td>-8845298781299428018</td>\n",
       "      <td>VIEW</td>\n",
       "      <td>Hiri wants to fix the workplace email problem</td>\n",
       "      <td>1.0</td>\n",
       "    </tr>\n",
       "    <tr>\n",
       "      <th>2</th>\n",
       "      <td>-3499919498720038879</td>\n",
       "      <td>-108842214936804958</td>\n",
       "      <td>VIEW</td>\n",
       "      <td>Hiri wants to fix the workplace email problem</td>\n",
       "      <td>1.0</td>\n",
       "    </tr>\n",
       "    <tr>\n",
       "      <th>3</th>\n",
       "      <td>-3499919498720038879</td>\n",
       "      <td>-1443636648652872475</td>\n",
       "      <td>VIEW</td>\n",
       "      <td>Hiri wants to fix the workplace email problem</td>\n",
       "      <td>1.0</td>\n",
       "    </tr>\n",
       "    <tr>\n",
       "      <th>4</th>\n",
       "      <td>-3499919498720038879</td>\n",
       "      <td>-1443636648652872475</td>\n",
       "      <td>VIEW</td>\n",
       "      <td>Hiri wants to fix the workplace email problem</td>\n",
       "      <td>1.0</td>\n",
       "    </tr>\n",
       "    <tr>\n",
       "      <th>5</th>\n",
       "      <td>-3499919498720038879</td>\n",
       "      <td>-1443636648652872475</td>\n",
       "      <td>VIEW</td>\n",
       "      <td>Hiri wants to fix the workplace email problem</td>\n",
       "      <td>1.0</td>\n",
       "    </tr>\n",
       "    <tr>\n",
       "      <th>6</th>\n",
       "      <td>-3499919498720038879</td>\n",
       "      <td>-8020832670974472349</td>\n",
       "      <td>VIEW</td>\n",
       "      <td>Hiri wants to fix the workplace email problem</td>\n",
       "      <td>1.0</td>\n",
       "    </tr>\n",
       "    <tr>\n",
       "      <th>7</th>\n",
       "      <td>-3499919498720038879</td>\n",
       "      <td>-8020832670974472349</td>\n",
       "      <td>VIEW</td>\n",
       "      <td>Hiri wants to fix the workplace email problem</td>\n",
       "      <td>1.0</td>\n",
       "    </tr>\n",
       "    <tr>\n",
       "      <th>8</th>\n",
       "      <td>-3499919498720038879</td>\n",
       "      <td>-9009798162809551896</td>\n",
       "      <td>LIKE</td>\n",
       "      <td>Hiri wants to fix the workplace email problem</td>\n",
       "      <td>2.0</td>\n",
       "    </tr>\n",
       "    <tr>\n",
       "      <th>9</th>\n",
       "      <td>-3499919498720038879</td>\n",
       "      <td>-9009798162809551896</td>\n",
       "      <td>VIEW</td>\n",
       "      <td>Hiri wants to fix the workplace email problem</td>\n",
       "      <td>1.0</td>\n",
       "    </tr>\n",
       "  </tbody>\n",
       "</table>\n",
       "</div>"
      ],
      "text/plain": [
       "             contentId             personId eventType  \\\n",
       "0 -3499919498720038879 -8845298781299428018      VIEW   \n",
       "1 -3499919498720038879 -8845298781299428018      VIEW   \n",
       "2 -3499919498720038879  -108842214936804958      VIEW   \n",
       "3 -3499919498720038879 -1443636648652872475      VIEW   \n",
       "4 -3499919498720038879 -1443636648652872475      VIEW   \n",
       "5 -3499919498720038879 -1443636648652872475      VIEW   \n",
       "6 -3499919498720038879 -8020832670974472349      VIEW   \n",
       "7 -3499919498720038879 -8020832670974472349      VIEW   \n",
       "8 -3499919498720038879 -9009798162809551896      LIKE   \n",
       "9 -3499919498720038879 -9009798162809551896      VIEW   \n",
       "\n",
       "                                           title  eventStrength  \n",
       "0  Hiri wants to fix the workplace email problem            1.0  \n",
       "1  Hiri wants to fix the workplace email problem            1.0  \n",
       "2  Hiri wants to fix the workplace email problem            1.0  \n",
       "3  Hiri wants to fix the workplace email problem            1.0  \n",
       "4  Hiri wants to fix the workplace email problem            1.0  \n",
       "5  Hiri wants to fix the workplace email problem            1.0  \n",
       "6  Hiri wants to fix the workplace email problem            1.0  \n",
       "7  Hiri wants to fix the workplace email problem            1.0  \n",
       "8  Hiri wants to fix the workplace email problem            2.0  \n",
       "9  Hiri wants to fix the workplace email problem            1.0  "
      ]
     },
     "execution_count": 29,
     "metadata": {},
     "output_type": "execute_result"
    }
   ],
   "source": [
    "df.head(10)"
   ]
  },
  {
   "cell_type": "code",
   "execution_count": 30,
   "metadata": {},
   "outputs": [],
   "source": [
    "df = df.drop_duplicates()\n",
    "\n",
    "#each person,content and title 的加總\n",
    "grouped_df = df.groupby(['personId', 'contentId', 'title']).sum().reset_index()"
   ]
  },
  {
   "cell_type": "code",
   "execution_count": 33,
   "metadata": {},
   "outputs": [
    {
     "data": {
      "text/plain": [
       "1.0     32742\n",
       "3.0      4305\n",
       "4.0      1011\n",
       "6.0       885\n",
       "10.0      540\n",
       "12.0      420\n",
       "5.0       230\n",
       "8.0       173\n",
       "7.0       121\n",
       "2.0       121\n",
       "15.0       77\n",
       "11.0       23\n",
       "13.0       22\n",
       "9.0        10\n",
       "14.0        2\n",
       "Name: eventStrength, dtype: int64"
      ]
     },
     "execution_count": 33,
     "metadata": {},
     "output_type": "execute_result"
    }
   ],
   "source": [
    "grouped_df['eventStrength'].value_counts()"
   ]
  },
  {
   "cell_type": "code",
   "execution_count": 34,
   "metadata": {},
   "outputs": [
    {
     "data": {
      "text/plain": [
       "personId           int64\n",
       "contentId          int64\n",
       "title             object\n",
       "eventStrength    float64\n",
       "dtype: object"
      ]
     },
     "execution_count": 34,
     "metadata": {},
     "output_type": "execute_result"
    }
   ],
   "source": [
    "grouped_df.dtypes"
   ]
  },
  {
   "cell_type": "code",
   "execution_count": 35,
   "metadata": {},
   "outputs": [],
   "source": [
    "grouped_df['title'] = grouped_df['title'].astype(\"category\")\n",
    "grouped_df['personId'] = grouped_df['personId'].astype(\"category\")\n",
    "grouped_df['contentId'] = grouped_df['contentId'].astype(\"category\")\n",
    "grouped_df['person_id'] = grouped_df['personId'].cat.codes\n",
    "grouped_df['content_id'] = grouped_df['contentId'].cat.codes"
   ]
  },
  {
   "cell_type": "code",
   "execution_count": 62,
   "metadata": {},
   "outputs": [
    {
     "name": "stdout",
     "output_type": "stream",
     "text": [
      "<class 'pandas.core.frame.DataFrame'>\n",
      "RangeIndex: 40682 entries, 0 to 40681\n",
      "Data columns (total 6 columns):\n",
      " #   Column         Non-Null Count  Dtype   \n",
      "---  ------         --------------  -----   \n",
      " 0   personId       40682 non-null  category\n",
      " 1   contentId      40682 non-null  category\n",
      " 2   title          40682 non-null  category\n",
      " 3   eventStrength  40682 non-null  int64   \n",
      " 4   person_id      40682 non-null  int16   \n",
      " 5   content_id     40682 non-null  int16   \n",
      "dtypes: category(3), int16(2), int64(1)\n",
      "memory usage: 1016.3 KB\n"
     ]
    }
   ],
   "source": [
    "grouped_df.info()"
   ]
  },
  {
   "cell_type": "code",
   "execution_count": 63,
   "metadata": {},
   "outputs": [
    {
     "data": {
      "text/plain": [
       "1    40682\n",
       "Name: eventStrength, dtype: int64"
      ]
     },
     "execution_count": 63,
     "metadata": {},
     "output_type": "execute_result"
    }
   ],
   "source": [
    "#因為若是比較基本的是不論是什麼行為都算是1\n",
    "grouped_df['eventStrength'] = 1\n",
    "grouped_df['eventStrength'].value_counts()"
   ]
  },
  {
   "cell_type": "code",
   "execution_count": 42,
   "metadata": {},
   "outputs": [],
   "source": [
    "#?兩個差在哪\n",
    "sparse_content_person = sparse.csr_matrix((grouped_df['eventStrength'].astype(float), (grouped_df['content_id'], grouped_df['person_id'])))\n",
    "sparse_person_content = sparse.csr_matrix((grouped_df['eventStrength'].astype(float), (grouped_df['person_id'], grouped_df['content_id'])))"
   ]
  },
  {
   "cell_type": "code",
   "execution_count": 69,
   "metadata": {},
   "outputs": [
    {
     "data": {
      "text/plain": [
       "(2979, 1895)"
      ]
     },
     "execution_count": 69,
     "metadata": {},
     "output_type": "execute_result"
    }
   ],
   "source": [
    "#?? csr_matrix把資料做壓縮那最後推薦要怎麼推薦\n",
    "sparse_content_person.toarray().shape"
   ]
  },
  {
   "cell_type": "code",
   "execution_count": 73,
   "metadata": {},
   "outputs": [
    {
     "data": {
      "text/plain": [
       "array([[0., 1., 0., ..., 0., 0., 0.],\n",
       "       [0., 0., 0., ..., 0., 0., 0.],\n",
       "       [0., 0., 0., ..., 0., 0., 1.],\n",
       "       ...,\n",
       "       [0., 0., 0., ..., 0., 0., 0.],\n",
       "       [0., 1., 0., ..., 1., 0., 0.],\n",
       "       [0., 0., 0., ..., 0., 0., 0.]])"
      ]
     },
     "execution_count": 73,
     "metadata": {},
     "output_type": "execute_result"
    }
   ],
   "source": [
    "sparse_content_person.toarray()[1:100,1:100]"
   ]
  },
  {
   "cell_type": "code",
   "execution_count": 74,
   "metadata": {},
   "outputs": [],
   "source": [
    "np.savetxt(\"/Users/lucaschang/Documents/python/rec_sys_implicit/sparse_content_person.csv\", \n",
    "           sparse_content_person.toarray()[1:100,1:100], delimiter=\",\")"
   ]
  },
  {
   "cell_type": "code",
   "execution_count": 75,
   "metadata": {},
   "outputs": [
    {
     "data": {
      "text/plain": [
       "(1895, 2979)"
      ]
     },
     "execution_count": 75,
     "metadata": {},
     "output_type": "execute_result"
    }
   ],
   "source": [
    "sparse_person_content.toarray().shape"
   ]
  },
  {
   "cell_type": "code",
   "execution_count": 76,
   "metadata": {},
   "outputs": [
    {
     "data": {
      "text/plain": [
       "array([[0., 0., 0., ..., 0., 0., 0.],\n",
       "       [1., 0., 0., ..., 0., 1., 0.],\n",
       "       [0., 0., 0., ..., 0., 0., 0.],\n",
       "       ...,\n",
       "       [0., 0., 0., ..., 0., 1., 0.],\n",
       "       [0., 0., 0., ..., 0., 0., 0.],\n",
       "       [0., 0., 1., ..., 0., 0., 0.]])"
      ]
     },
     "execution_count": 76,
     "metadata": {},
     "output_type": "execute_result"
    }
   ],
   "source": [
    "sparse_person_content.toarray()[1:100,1:100]"
   ]
  },
  {
   "cell_type": "code",
   "execution_count": 77,
   "metadata": {},
   "outputs": [],
   "source": [
    "np.savetxt(\"/Users/lucaschang/Documents/python/rec_sys_implicit/sparse_person_content.csv\", \n",
    "           sparse_content_person.toarray()[1:100,1:100], delimiter=\",\")"
   ]
  },
  {
   "cell_type": "code",
   "execution_count": 43,
   "metadata": {},
   "outputs": [
    {
     "name": "stdout",
     "output_type": "stream",
     "text": [
      "  (0, 2)\t1.0\n",
      "  (0, 130)\t1.0\n",
      "  (0, 210)\t1.0\n",
      "  (0, 555)\t1.0\n",
      "  (0, 941)\t1.0\n",
      "  (0, 946)\t1.0\n",
      "  (0, 1149)\t1.0\n",
      "  (0, 1235)\t1.0\n",
      "  (0, 1499)\t1.0\n",
      "  (0, 1532)\t1.0\n"
     ]
    }
   ],
   "source": [
    "print(sparse_content_person[1, ])"
   ]
  },
  {
   "cell_type": "code",
   "execution_count": 44,
   "metadata": {},
   "outputs": [
    {
     "name": "stdout",
     "output_type": "stream",
     "text": [
      "  (0, 1152)\t1.0\n",
      "  (0, 1319)\t1.0\n",
      "  (0, 1760)\t1.0\n",
      "  (0, 2308)\t1.0\n",
      "  (0, 2586)\t1.0\n"
     ]
    }
   ],
   "source": [
    "print(sparse_person_content[1,:])"
   ]
  },
  {
   "cell_type": "code",
   "execution_count": 78,
   "metadata": {},
   "outputs": [],
   "source": [
    "model = implicit.als.AlternatingLeastSquares(factors=20, regularization=0.1, iterations=50)"
   ]
  },
  {
   "cell_type": "code",
   "execution_count": 79,
   "metadata": {},
   "outputs": [
    {
     "data": {
      "application/vnd.jupyter.widget-view+json": {
       "model_id": "3246811ddd1d4562a76c0a35829ef889",
       "version_major": 2,
       "version_minor": 0
      },
      "text/plain": [
       "HBox(children=(HTML(value=''), FloatProgress(value=0.0, max=50.0), HTML(value='')))"
      ]
     },
     "metadata": {},
     "output_type": "display_data"
    },
    {
     "name": "stdout",
     "output_type": "stream",
     "text": [
      "\n"
     ]
    }
   ],
   "source": [
    "alpha = 15\n",
    "data = (sparse_content_person * alpha).astype('double')\n",
    "\n",
    "# Fit the model\n",
    "model.fit(data)"
   ]
  },
  {
   "cell_type": "code",
   "execution_count": 82,
   "metadata": {},
   "outputs": [],
   "source": [
    "#針對特定商品的相似度計算\n",
    "content_id = 450\n",
    "n_similar = 10\n",
    "\n",
    "#？？model.user_factors要怎麼查的出來\n",
    "person_vecs = model.user_factors\n",
    "content_vecs = model.item_factors\n",
    "\n",
    "#?\n",
    "content_norms = np.sqrt((content_vecs * content_vecs).sum(axis=1))\n",
    "\n",
    "#?好像是做標準化？\n",
    "scores = content_vecs.dot(content_vecs[content_id]) / content_norms\n",
    "\n",
    "#?\n",
    "top_idx = np.argpartition(scores, -n_similar)[-n_similar:]\n",
    "\n",
    "#?zip 是幹嘛的，similar是相似度\n",
    "similar = sorted(zip(top_idx, scores[top_idx] / content_norms[content_id]), key=lambda x: -x[1])"
   ]
  },
  {
   "cell_type": "code",
   "execution_count": 87,
   "metadata": {},
   "outputs": [
    {
     "data": {
      "text/plain": [
       "[(388, 0.7084298),\n",
       " (450, 1.0),\n",
       " (729, 0.7759288),\n",
       " (1153, 0.72980464),\n",
       " (1388, 0.7075799),\n",
       " (1718, 0.6997923),\n",
       " (1765, 0.78623885),\n",
       " (1824, 0.7107821),\n",
       " (2343, 0.7397392),\n",
       " (2840, 0.7386269)]"
      ]
     },
     "execution_count": 87,
     "metadata": {},
     "output_type": "execute_result"
    }
   ],
   "source": [
    "sorted(similar)"
   ]
  },
  {
   "cell_type": "code",
   "execution_count": 48,
   "metadata": {},
   "outputs": [
    {
     "name": "stdout",
     "output_type": "stream",
     "text": [
      "Google's fair use victory is good for open source\n",
      "Up your DevOps chops with this online Kubernetes class\n",
      "Google lags behind Amazon and Microsoft's cloud in one important area\n",
      "How Companies Are Using Machine Learning to Get Faster and More Efficient\n",
      "Python Ecosystem for Machine Learning - Machine Learning Mastery\n",
      "An independent organization just ranked Google as the best cloud, beating Amazon\n",
      "Meet Mycroft, the open source AI who wants to rival Siri, Cortana, and Alexa | ZDNet\n",
      "Tensorflow wins\n",
      "Deep learning software knows that a rose is a rose is a rosa rubiginosa\n",
      "Google's Cloud Dataflow stomps on Apache Spark in new benchmark tests\n"
     ]
    }
   ],
   "source": [
    "for content in similar:\n",
    "    idx, score = content\n",
    "    print(grouped_df.title.loc[grouped_df.content_id == idx].iloc[0])"
   ]
  },
  {
   "cell_type": "code",
   "execution_count": 50,
   "metadata": {},
   "outputs": [],
   "source": [
    "#針對特定個人推薦內容\n",
    "#return recommedation results to a specific person (input:person_id,person_content_matrix,person_vecs,content_vecs,num_contents)\n",
    "def recommend(person_id, sparse_person_content, person_vecs, content_vecs, num_contents=10):\n",
    "    # Get the interactions scores from the sparse person content matrix（取得特定個人的購買向量）\n",
    "    person_interactions = sparse_person_content[person_id,:].toarray()\n",
    "    # Add 1 to everything, so that articles with no interaction yet become equal to 1\n",
    "    person_interactions = person_interactions.reshape(-1) + 1\n",
    "    # Make articles already interacted zero\n",
    "    person_interactions[person_interactions > 1] = 0\n",
    "    # Get dot product of person vector and all content vectors（specific person all content vecs)\n",
    "    rec_vector = person_vecs[person_id,:].dot(content_vecs.T).toarray()\n",
    "    \n",
    "    # Scale this recommendation vector between 0 and 1\n",
    "    min_max = MinMaxScaler()\n",
    "    #?\n",
    "    rec_vector_scaled = min_max.fit_transform(rec_vector.reshape(-1,1))[:,0]\n",
    "    # Content already interacted have their recommendation multiplied by zero ??\n",
    "    recommend_vector = person_interactions * rec_vector_scaled   ##why miltiple rec_vector_scaled ??\n",
    "    # Sort the indices of the content into order of best recommendations   ##argsort??\n",
    "    content_idx = np.argsort(recommend_vector)[::-1][:num_contents]\n",
    "    \n",
    "    # Start empty list to store titles and scores\n",
    "    titles = []\n",
    "    scores = []\n",
    "\n",
    "    for idx in content_idx:\n",
    "        # Append titles and scores to the list\n",
    "        titles.append(grouped_df.title.loc[grouped_df.content_id == idx].iloc[0])\n",
    "        scores.append(recommend_vector[idx])\n",
    "\n",
    "    recommendations = pd.DataFrame({'title': titles, 'score': scores})\n",
    "\n",
    "    return recommendations"
   ]
  },
  {
   "cell_type": "code",
   "execution_count": 51,
   "metadata": {},
   "outputs": [
    {
     "name": "stdout",
     "output_type": "stream",
     "text": [
      "                                               title     score\n",
      "0  Custo do Erro - Cinco motivos para investir em...  1.000000\n",
      "1  Former Google career coach shares a visual tri...  0.832930\n",
      "2                       Discutindo Devops na Prática  0.731799\n",
      "3  'The Simpsons' celebrates 600 episodes with a ...  0.725046\n",
      "4  Do You Suffer From Deployment Anxiety? - DZone...  0.721484\n",
      "5           Drupal and ambitious digital experiences  0.719188\n",
      "6  GitLab launches Issue Boards, an open-source t...  0.709348\n",
      "7  How I built an app with 500,000 users in 5 day...  0.703791\n",
      "8            Why Learning Angular 2 Was Excruciating  0.694935\n",
      "9               The technology behind preview photos  0.694694\n"
     ]
    }
   ],
   "source": [
    "# Get the trained person and content vectors. We convert them to csr matrices\n",
    "person_vecs = sparse.csr_matrix(model.user_factors)\n",
    "content_vecs = sparse.csr_matrix(model.item_factors)\n",
    "\n",
    "# Create recommendations for person with id 50\n",
    "person_id = 50\n",
    "\n",
    "recommendations = recommend(person_id, sparse_person_content, person_vecs, content_vecs)\n",
    "\n",
    "print(recommendations)"
   ]
  },
  {
   "cell_type": "code",
   "execution_count": 52,
   "metadata": {},
   "outputs": [
    {
     "data": {
      "text/html": [
       "<div>\n",
       "<style scoped>\n",
       "    .dataframe tbody tr th:only-of-type {\n",
       "        vertical-align: middle;\n",
       "    }\n",
       "\n",
       "    .dataframe tbody tr th {\n",
       "        vertical-align: top;\n",
       "    }\n",
       "\n",
       "    .dataframe thead th {\n",
       "        text-align: right;\n",
       "    }\n",
       "</style>\n",
       "<table border=\"1\" class=\"dataframe\">\n",
       "  <thead>\n",
       "    <tr style=\"text-align: right;\">\n",
       "      <th></th>\n",
       "      <th>title</th>\n",
       "      <th>person_id</th>\n",
       "      <th>eventStrength</th>\n",
       "    </tr>\n",
       "  </thead>\n",
       "  <tbody>\n",
       "    <tr>\n",
       "      <th>1727</th>\n",
       "      <td>Acquia Engage 2016: Day One</td>\n",
       "      <td>50</td>\n",
       "      <td>1</td>\n",
       "    </tr>\n",
       "    <tr>\n",
       "      <th>1771</th>\n",
       "      <td>Google vai reduzir em 50% consumo de memória d...</td>\n",
       "      <td>50</td>\n",
       "      <td>1</td>\n",
       "    </tr>\n",
       "    <tr>\n",
       "      <th>1777</th>\n",
       "      <td>Waterwheel, the Drupal SDK Ecosystem</td>\n",
       "      <td>50</td>\n",
       "      <td>1</td>\n",
       "    </tr>\n",
       "    <tr>\n",
       "      <th>1776</th>\n",
       "      <td>Can virtual reality revolutionise education?</td>\n",
       "      <td>50</td>\n",
       "      <td>1</td>\n",
       "    </tr>\n",
       "    <tr>\n",
       "      <th>1775</th>\n",
       "      <td>Seja esperto no trabalho: Melhore a comunicaçã...</td>\n",
       "      <td>50</td>\n",
       "      <td>1</td>\n",
       "    </tr>\n",
       "    <tr>\n",
       "      <th>1774</th>\n",
       "      <td>Google's new tool helps test your website's sp...</td>\n",
       "      <td>50</td>\n",
       "      <td>1</td>\n",
       "    </tr>\n",
       "    <tr>\n",
       "      <th>1773</th>\n",
       "      <td>Razorfish, US digital revenues, drag down Publ...</td>\n",
       "      <td>50</td>\n",
       "      <td>1</td>\n",
       "    </tr>\n",
       "    <tr>\n",
       "      <th>1772</th>\n",
       "      <td>Applying the Linus Torvalds \"Good Taste\" Codin...</td>\n",
       "      <td>50</td>\n",
       "      <td>1</td>\n",
       "    </tr>\n",
       "    <tr>\n",
       "      <th>1770</th>\n",
       "      <td>Rating the English Proficiency of Countries an...</td>\n",
       "      <td>50</td>\n",
       "      <td>1</td>\n",
       "    </tr>\n",
       "    <tr>\n",
       "      <th>1779</th>\n",
       "      <td>Cognizant Named a Digital Transformation Leade...</td>\n",
       "      <td>50</td>\n",
       "      <td>1</td>\n",
       "    </tr>\n",
       "  </tbody>\n",
       "</table>\n",
       "</div>"
      ],
      "text/plain": [
       "                                                  title  person_id  \\\n",
       "1727                        Acquia Engage 2016: Day One         50   \n",
       "1771  Google vai reduzir em 50% consumo de memória d...         50   \n",
       "1777               Waterwheel, the Drupal SDK Ecosystem         50   \n",
       "1776       Can virtual reality revolutionise education?         50   \n",
       "1775  Seja esperto no trabalho: Melhore a comunicaçã...         50   \n",
       "1774  Google's new tool helps test your website's sp...         50   \n",
       "1773  Razorfish, US digital revenues, drag down Publ...         50   \n",
       "1772  Applying the Linus Torvalds \"Good Taste\" Codin...         50   \n",
       "1770  Rating the English Proficiency of Countries an...         50   \n",
       "1779  Cognizant Named a Digital Transformation Leade...         50   \n",
       "\n",
       "      eventStrength  \n",
       "1727              1  \n",
       "1771              1  \n",
       "1777              1  \n",
       "1776              1  \n",
       "1775              1  \n",
       "1774              1  \n",
       "1773              1  \n",
       "1772              1  \n",
       "1770              1  \n",
       "1779              1  "
      ]
     },
     "execution_count": 52,
     "metadata": {},
     "output_type": "execute_result"
    }
   ],
   "source": [
    "grouped_df.loc[grouped_df['person_id'] == 50].sort_values(by=['eventStrength'], ascending=False)[['title', 'person_id', 'eventStrength']].head(10)"
   ]
  },
  {
   "cell_type": "raw",
   "metadata": {},
   "source": [
    "#evaluate recommendation system "
   ]
  },
  {
   "cell_type": "code",
   "execution_count": 53,
   "metadata": {},
   "outputs": [],
   "source": [
    "#??為何training_set,test_set是這樣分割法\n",
    "#是用隨機挑選法遮蔽客人＊文章的配對嗎？\n",
    "import random\n",
    "\n",
    "def make_train(ratings, pct_test = 0.2):\n",
    "    test_set = ratings.copy() # Make a copy of the original set to be the test set. \n",
    "    test_set[test_set != 0] = 1 # Store the test set as a binary preference matrix\n",
    "    \n",
    "    training_set = ratings.copy() # Make a copy of the original data we can alter as our training set. \n",
    "    \n",
    "    nonzero_inds = training_set.nonzero() # Find the indices in the ratings data where an interaction exists\n",
    "    nonzero_pairs = list(zip(nonzero_inds[0], nonzero_inds[1])) # Zip these pairs together of item,user index into list ＃zip如何使用？？\n",
    "\n",
    "    \n",
    "    random.seed(0) # Set the random seed to zero for reproducibility\n",
    "    \n",
    "    num_samples = int(np.ceil(pct_test*len(nonzero_pairs))) # Round the number of samples needed to the nearest integer\n",
    "    samples = random.sample(nonzero_pairs, num_samples) # Sample a random number of item-user pairs without replacement\n",
    "\n",
    "    content_inds = [index[0] for index in samples] # Get the item row indices\n",
    "\n",
    "    person_inds = [index[1] for index in samples] # Get the user column indices\n",
    "\n",
    "    #把抽到的pairs都改成零（把答案遮起來）\n",
    "    training_set[content_inds, person_inds] = 0 # Assign all of the randomly chosen user-item pairs to zero\n",
    "    training_set.eliminate_zeros() # Get rid of zeros in sparse array storage after update to save space\n",
    "    \n",
    "    return training_set, test_set, list(set(person_inds))"
   ]
  },
  {
   "cell_type": "code",
   "execution_count": 54,
   "metadata": {},
   "outputs": [],
   "source": [
    "content_train, content_test, content_persons_altered = make_train(sparse_content_person, pct_test = 0.2)"
   ]
  },
  {
   "cell_type": "code",
   "execution_count": 90,
   "metadata": {},
   "outputs": [
    {
     "data": {
      "text/plain": [
       "array([[0., 0., 0., ..., 0., 0., 0.],\n",
       "       [0., 0., 1., ..., 0., 0., 0.],\n",
       "       [0., 0., 0., ..., 0., 0., 0.],\n",
       "       ...,\n",
       "       [0., 0., 0., ..., 0., 0., 0.],\n",
       "       [0., 0., 0., ..., 0., 0., 0.],\n",
       "       [0., 0., 0., ..., 0., 0., 0.]])"
      ]
     },
     "execution_count": 90,
     "metadata": {},
     "output_type": "execute_result"
    }
   ],
   "source": [
    "content_train.toarray()"
   ]
  },
  {
   "cell_type": "code",
   "execution_count": 91,
   "metadata": {},
   "outputs": [
    {
     "data": {
      "text/plain": [
       "array([[0., 0., 0., ..., 0., 0., 0.],\n",
       "       [0., 0., 1., ..., 0., 0., 0.],\n",
       "       [0., 0., 0., ..., 0., 0., 0.],\n",
       "       ...,\n",
       "       [0., 0., 0., ..., 0., 0., 0.],\n",
       "       [0., 0., 0., ..., 0., 0., 0.],\n",
       "       [0., 0., 0., ..., 0., 0., 0.]])"
      ]
     },
     "execution_count": 91,
     "metadata": {},
     "output_type": "execute_result"
    }
   ],
   "source": [
    "content_test.toarray()"
   ]
  },
  {
   "cell_type": "code",
   "execution_count": 55,
   "metadata": {},
   "outputs": [],
   "source": [
    "def auc_score(predictions, test):\n",
    "    fpr, tpr, thresholds = metrics.roc_curve(test, predictions)\n",
    "    return metrics.auc(fpr, tpr)"
   ]
  },
  {
   "cell_type": "code",
   "execution_count": 56,
   "metadata": {},
   "outputs": [],
   "source": [
    "#rec_sys auc is compare popularity and rec_sys result by each person  \n",
    "def calc_mean_auc(training_set, altered_persons, predictions, test_set):\n",
    "    store_auc = [] # An empty list to store the AUC for each user that had an item removed from the training set\n",
    "    popularity_auc = [] # To store popular AUC scores\n",
    "    pop_contents = np.array(test_set.sum(axis = 1)).reshape(-1) # Get sum of item iteractions to find most popular\n",
    "    content_vecs = predictions[1]\n",
    "    for person in altered_persons: # Iterate through each user that had an item altered\n",
    "        training_column = training_set[:,person].toarray().reshape(-1) # Get the training set column\n",
    "        zero_inds = np.where(training_column == 0) # Find where the interaction had not yet occurred\n",
    "        \n",
    "        # Get the predicted values based on our user/item vectors\n",
    "        person_vec = predictions[0][person,:]\n",
    "        pred = person_vec.dot(content_vecs).toarray()[0,zero_inds].reshape(-1)\n",
    "        \n",
    "        # Get only the items that were originally zero\n",
    "        # Select all ratings from the MF prediction for this user that originally had no iteraction\n",
    "        actual = test_set[:,person].toarray()[zero_inds,0].reshape(-1)\n",
    "        \n",
    "        # Select the binarized yes/no interaction pairs from the original full data\n",
    "        # that align with the same pairs in training \n",
    "        pop = pop_contents[zero_inds] # Get the item popularity for our chosen items\n",
    "        \n",
    "        store_auc.append(auc_score(pred, actual)) # Calculate AUC for the given user and store\n",
    "        \n",
    "        popularity_auc.append(auc_score(pop, actual)) # Calculate AUC using most popular and score\n",
    "    # End users iteration\n",
    "    \n",
    "    return float('%.3f'%np.mean(store_auc)), float('%.3f'%np.mean(popularity_auc))"
   ]
  },
  {
   "cell_type": "code",
   "execution_count": 57,
   "metadata": {},
   "outputs": [
    {
     "data": {
      "text/plain": [
       "(0.983, 0.819)"
      ]
     },
     "execution_count": 57,
     "metadata": {},
     "output_type": "execute_result"
    }
   ],
   "source": [
    "calc_mean_auc(content_train, content_persons_altered,[person_vecs, content_vecs.T], content_test)"
   ]
  },
  {
   "cell_type": "code",
   "execution_count": null,
   "metadata": {},
   "outputs": [],
   "source": []
  },
  {
   "cell_type": "code",
   "execution_count": null,
   "metadata": {},
   "outputs": [],
   "source": []
  },
  {
   "cell_type": "code",
   "execution_count": null,
   "metadata": {},
   "outputs": [],
   "source": []
  },
  {
   "cell_type": "code",
   "execution_count": null,
   "metadata": {},
   "outputs": [],
   "source": []
  }
 ],
 "metadata": {
  "kernelspec": {
   "display_name": "Python 3",
   "language": "python",
   "name": "python3"
  },
  "language_info": {
   "codemirror_mode": {
    "name": "ipython",
    "version": 3
   },
   "file_extension": ".py",
   "mimetype": "text/x-python",
   "name": "python",
   "nbconvert_exporter": "python",
   "pygments_lexer": "ipython3",
   "version": "3.8.5"
  }
 },
 "nbformat": 4,
 "nbformat_minor": 4
}
